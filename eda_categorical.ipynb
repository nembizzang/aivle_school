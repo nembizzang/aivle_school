{
 "cells": [
  {
   "cell_type": "code",
   "execution_count": null,
   "id": "799e3263-524d-4f80-8a6f-b47f9b86f99b",
   "metadata": {},
   "outputs": [],
   "source": [
    "def eda_c(data,var, bins=20) :\n",
    "    plt.figure(figsize = (3,4))\n",
    "    \n",
    "    sns.barplot(x=var, y='Sales', data=data)\n",
    "    plt.title(f'barplot : {var} vs Sales')\n",
    "    plt.grid()\n",
    "    plt.tight_layout()\n",
    "    \n",
    "    tmp = data.loc[data[var].notnull()]\n",
    "    cats = tmp[var].unique()\n",
    "    \n",
    "    ls = []\n",
    "\n",
    "    for cat in cats :\n",
    "        ls.append(data.loc[data[var]==cat,'Sales'])\n",
    "    \n",
    "    if len(ls) >= 3 :\n",
    "        fv,pv = spst.f_oneway(*ls)\n",
    "        print(f'ftest = {fv}\\np-value = {pv}')\n",
    "\n",
    "        if abs(fv) >= 2 and pv < 0.05:\n",
    "            print(f'{var}와 Sales는 유의미한 관계가 있다.')\n",
    "        else : print(f'{var}와 Sales는 유의미한 관계가 있지 않다.')\n",
    "\n",
    "    else :\n",
    "        tv,pv = spst.ttest_ind(*ls)\n",
    "        print(f'ftest = {tv}\\np-value = {pv}')\n",
    "\n",
    "        if abs(tv) >= 2 and pv < 0.05:\n",
    "            print(f'{var}와 Sales는 유의미한 관계가 있다.')\n",
    "        else : print(f'{var}와 Sales는 유의미한 관계가 있지 않다.')"
   ]
  }
 ],
 "metadata": {
  "kernelspec": {
   "display_name": "Python 3 (ipykernel)",
   "language": "python",
   "name": "python3"
  },
  "language_info": {
   "codemirror_mode": {
    "name": "ipython",
    "version": 3
   },
   "file_extension": ".py",
   "mimetype": "text/x-python",
   "name": "python",
   "nbconvert_exporter": "python",
   "pygments_lexer": "ipython3",
   "version": "3.9.13"
  }
 },
 "nbformat": 4,
 "nbformat_minor": 5
}
