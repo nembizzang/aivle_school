{
 "cells": [
  {
   "cell_type": "code",
   "execution_count": null,
   "id": "a953858b",
   "metadata": {},
   "outputs": [],
   "source": [
    "# Q1 Answer template\n",
    "\n",
    "def solution(lottos, win_nums):\n",
    "    cor,zero = 0,lottos.count(0)\n",
    "    for num in lottos :\n",
    "        if num in win_nums :\n",
    "            cor += 1\n",
    "    row = 6 if cor <= 1 else 7-cor\n",
    "    if not zero :\n",
    "        high = row\n",
    "    else :\n",
    "        if not cor :\n",
    "            high = 6 if zero <= 1 else 7-zero\n",
    "        else :\n",
    "            high = row - zero\n",
    "            \n",
    "            \n",
    "    return [high,row]\n",
    "\n",
    "lottos = [44, 1, 0, 0, 31, 25]\n",
    "win_nums = [31, 10, 45, 1, 6, 19]\n",
    "answer = solution(lottos, win_nums)\n",
    "print(answer)\n",
    "\n",
    "lottos, win_nums = [0, 0, 0, 0, 0, 0], [38, 19, 20, 40, 15, 25]\n",
    "answer = solution(lottos, win_nums)\n",
    "print(answer)\n",
    "\n",
    "lottos, win_nums = [45, 4, 35, 20, 3, 9], [20, 9, 3, 45, 4, 35]\n",
    "answer = solution(lottos, win_nums)\n",
    "print(answer)"
   ]
  }
 ],
 "metadata": {
  "kernelspec": {
   "display_name": "Python 3 (ipykernel)",
   "language": "python",
   "name": "python3"
  },
  "language_info": {
   "codemirror_mode": {
    "name": "ipython",
    "version": 3
   },
   "file_extension": ".py",
   "mimetype": "text/x-python",
   "name": "python",
   "nbconvert_exporter": "python",
   "pygments_lexer": "ipython3",
   "version": "3.9.13"
  }
 },
 "nbformat": 4,
 "nbformat_minor": 5
}
